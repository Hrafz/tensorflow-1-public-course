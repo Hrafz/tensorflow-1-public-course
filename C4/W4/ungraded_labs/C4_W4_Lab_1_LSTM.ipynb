{
 "cells": [
  {
   "cell_type": "markdown",
   "metadata": {},
   "source": [
    "<a href=\"https://colab.research.google.com/github/https-deeplearning-ai/tensorflow-1-public/blob/main/C4/W4/ungraded_labs/C4_W4_Lab_1_LSTM.ipynb\" target=\"_parent\"><img src=\"https://colab.research.google.com/assets/colab-badge.svg\" alt=\"Open In Colab\"/></a>"
   ]
  },
  {
   "cell_type": "markdown",
   "metadata": {
    "id": "GYEYC1orNFdN"
   },
   "source": [
    "# Ungraded Lab: Using Convolutions with LSTMs\n",
    "\n",
    "Welcome to the final week of this course! In this lab, you will build upon the RNN models you built last week and append a convolution layer to it. As you saw in previous courses, convolution filters can also capture features from sequences so it's good to try them out when exploring model architectures. Let's begin!"
   ]
  },
  {
   "cell_type": "markdown",
   "metadata": {
    "id": "vHuz2uNTNMnU"
   },
   "source": [
    "## Imports"
   ]
  },
  {
   "cell_type": "code",
   "execution_count": 1,
   "metadata": {
    "id": "BOjujz601HcS"
   },
   "outputs": [],
   "source": [
    "import tensorflow as tf\n",
    "import numpy as np\n",
    "import matplotlib.pyplot as plt"
   ]
  },
  {
   "cell_type": "markdown",
   "metadata": {
    "id": "dsCvMZCCNON1"
   },
   "source": [
    "## Utilities\n",
    "\n",
    "You will be plotting the MAE and loss later so the `plot_series()` is extended to have more labelling functionality. The utilities for generating the synthetic data is the same as the previous labs."
   ]
  },
  {
   "cell_type": "code",
   "execution_count": 2,
   "metadata": {
    "id": "Zswl7jRtGzkk"
   },
   "outputs": [],
   "source": [
    "def plot_series(x, y, format=\"-\", start=0, end=None, \n",
    "                title=None, xlabel=None, ylabel=None, legend=None ):\n",
    "    \"\"\"\n",
    "    Visualizes time series data\n",
    "\n",
    "    Args:\n",
    "      x (array of int) - contains values for the x-axis\n",
    "      y (array of int or tuple of arrays) - contains the values for the y-axis\n",
    "      format (string) - line style when plotting the graph\n",
    "      start (int) - first time step to plot\n",
    "      end (int) - last time step to plot\n",
    "      title (string) - title of the plot\n",
    "      xlabel (string) - label for the x-axis\n",
    "      ylabel (string) - label for the y-axis\n",
    "      legend (list of strings) - legend for the plot\n",
    "    \"\"\"\n",
    "\n",
    "    # Setup dimensions of the graph figure\n",
    "    plt.figure(figsize=(10, 6))\n",
    "    \n",
    "    # Check if there are more than two series to plot\n",
    "    if type(y) is tuple:\n",
    "\n",
    "      # Loop over the y elements\n",
    "      for y_curr in y:\n",
    "\n",
    "        # Plot the x and current y values\n",
    "        plt.plot(x[start:end], y_curr[start:end], format)\n",
    "\n",
    "    else:\n",
    "      # Plot the x and y values\n",
    "      plt.plot(x[start:end], y[start:end], format)\n",
    "\n",
    "    # Label the x-axis\n",
    "    plt.xlabel(xlabel)\n",
    "\n",
    "    # Label the y-axis\n",
    "    plt.ylabel(ylabel)\n",
    "\n",
    "    # Set the legend\n",
    "    if legend:\n",
    "      plt.legend(legend)\n",
    "\n",
    "    # Set the title\n",
    "    plt.title(title)\n",
    "\n",
    "    # Overlay a grid on the graph\n",
    "    plt.grid(True)\n",
    "\n",
    "    # Draw the graph on screen\n",
    "    plt.show()\n",
    "\n",
    "def trend(time, slope=0):\n",
    "    \"\"\"\n",
    "    Generates synthetic data that follows a straight line given a slope value.\n",
    "\n",
    "    Args:\n",
    "      time (array of int) - contains the time steps\n",
    "      slope (float) - determines the direction and steepness of the line\n",
    "\n",
    "    Returns:\n",
    "      series (array of float) - measurements that follow a straight line\n",
    "    \"\"\"\n",
    "\n",
    "    # Compute the linear series given the slope\n",
    "    series = slope * time\n",
    "\n",
    "    return series\n",
    "\n",
    "def seasonal_pattern(season_time):\n",
    "    \"\"\"\n",
    "    Just an arbitrary pattern, you can change it if you wish\n",
    "    \n",
    "    Args:\n",
    "      season_time (array of float) - contains the measurements per time step\n",
    "\n",
    "    Returns:\n",
    "      data_pattern (array of float) -  contains revised measurement values according \n",
    "                                  to the defined pattern\n",
    "    \"\"\"\n",
    "\n",
    "    # Generate the values using an arbitrary pattern\n",
    "    data_pattern = np.where(season_time < 0.4,\n",
    "                    np.cos(season_time * 2 * np.pi),\n",
    "                    1 / np.exp(3 * season_time))\n",
    "    \n",
    "    return data_pattern\n",
    "\n",
    "def seasonality(time, period, amplitude=1, phase=0):\n",
    "    \"\"\"\n",
    "    Repeats the same pattern at each period\n",
    "\n",
    "    Args:\n",
    "      time (array of int) - contains the time steps\n",
    "      period (int) - number of time steps before the pattern repeats\n",
    "      amplitude (int) - peak measured value in a period\n",
    "      phase (int) - number of time steps to shift the measured values\n",
    "\n",
    "    Returns:\n",
    "      data_pattern (array of float) - seasonal data scaled by the defined amplitude\n",
    "    \"\"\"\n",
    "    \n",
    "    # Define the measured values per period\n",
    "    season_time = ((time + phase) % period) / period\n",
    "\n",
    "    # Generates the seasonal data scaled by the defined amplitude\n",
    "    data_pattern = amplitude * seasonal_pattern(season_time)\n",
    "\n",
    "    return data_pattern\n",
    "\n",
    "def noise(time, noise_level=1, seed=None):\n",
    "    \"\"\"Generates a normally distributed noisy signal\n",
    "\n",
    "    Args:\n",
    "      time (array of int) - contains the time steps\n",
    "      noise_level (float) - scaling factor for the generated signal\n",
    "      seed (int) - number generator seed for repeatability\n",
    "\n",
    "    Returns:\n",
    "      noise (array of float) - the noisy signal\n",
    "    \"\"\"\n",
    "\n",
    "    # Initialize the random number generator\n",
    "    rnd = np.random.RandomState(seed)\n",
    "\n",
    "    # Generate a random number for each time step and scale by the noise level\n",
    "    noise = rnd.randn(len(time)) * noise_level\n",
    "    \n",
    "    return noise"
   ]
  },
  {
   "cell_type": "markdown",
   "metadata": {
    "id": "5eI0WvrTNT6d"
   },
   "source": [
    "## Generate the Synthetic Data"
   ]
  },
  {
   "cell_type": "code",
   "execution_count": 3,
   "metadata": {
    "id": "dtMZfbuxNtLA"
   },
   "outputs": [
    {
     "data": {
      "image/png": "[encoded data removed]",
      "text/plain": [
       "<Figure size 720x432 with 1 Axes>"
      ]
     },
     "metadata": {
      "needs_background": "light"
     },
     "output_type": "display_data"
    }
   ],
   "source": [
    "# Parameters\n",
    "time = np.arange(4 * 365 + 1, dtype=\"float32\")\n",
    "baseline = 10\n",
    "amplitude = 40\n",
    "slope = 0.05\n",
    "noise_level = 5\n",
    "\n",
    "# Create the series\n",
    "series = baseline + trend(time, slope) + seasonality(time, period=365, amplitude=amplitude)\n",
    "\n",
    "# Update with noise\n",
    "series += noise(time, noise_level, seed=42)\n",
    "\n",
    "# Plot the results\n",
    "plot_series(time, series, xlabel='Time', ylabel='Value')"
   ]
  },
  {
   "cell_type": "markdown",
   "metadata": {
    "id": "JXUYdSVmNYvN"
   },
   "source": [
    "## Split the Dataset"
   ]
  },
  {
   "cell_type": "code",
   "execution_count": 4,
   "metadata": {
    "id": "jvvA0or1OA5-"
   },
   "outputs": [],
   "source": [
    "# Define the split time\n",
    "split_time = 1000\n",
    "\n",
    "# Get the train set \n",
    "time_train = time[:split_time]\n",
    "x_train = series[:split_time]\n",
    "\n",
    "# Get the validation set\n",
    "time_valid = time[split_time:]\n",
    "x_valid = series[split_time:]"
   ]
  },
  {
   "cell_type": "markdown",
   "metadata": {
    "id": "UsuTYUWuNam3"
   },
   "source": [
    "## Prepare Features and Labels\n",
    "\n",
    "As mentioned in the lectures, you can experiment with different batch sizing here and see how it affects your results."
   ]
  },
  {
   "cell_type": "code",
   "execution_count": 5,
   "metadata": {
    "id": "A-sg6XuP8C00"
   },
   "outputs": [],
   "source": [
    "# Parameters\n",
    "window_size = 20\n",
    "batch_size = 16\n",
    "shuffle_buffer_size = 1000"
   ]
  },
  {
   "cell_type": "code",
   "execution_count": 6,
   "metadata": {
    "id": "4sTTIOCbyShY"
   },
   "outputs": [],
   "source": [
    "def windowed_dataset(series, window_size, batch_size, shuffle_buffer):\n",
    "    \"\"\"Generates dataset windows\n",
    "\n",
    "    Args:\n",
    "      series (array of float) - contains the values of the time series\n",
    "      window_size (int) - the number of time steps to average\n",
    "      batch_size (int) - the batch size\n",
    "      shuffle_buffer(int) - buffer size to use for the shuffle method\n",
    "\n",
    "    Returns:\n",
    "      dataset (TF Dataset) - TF Dataset containing time windows\n",
    "    \"\"\"\n",
    "  \n",
    "    # Generate a TF Dataset from the series values\n",
    "    dataset = tf.data.Dataset.from_tensor_slices(series)\n",
    "    \n",
    "    # Window the data but only take those with the specified size\n",
    "    dataset = dataset.window(window_size + 1, shift=1, drop_remainder=True)\n",
    "    \n",
    "    # Flatten the windows by putting its elements in a single batch\n",
    "    dataset = dataset.flat_map(lambda window: window.batch(window_size + 1))\n",
    "\n",
    "    # Create tuples with features and labels \n",
    "    dataset = dataset.map(lambda window: (window[:-1], window[-1]))\n",
    "\n",
    "    # Shuffle the windows\n",
    "    dataset = dataset.shuffle(shuffle_buffer)\n",
    "    \n",
    "    # Create batches of windows\n",
    "    dataset = dataset.batch(batch_size).prefetch(1)\n",
    "    \n",
    "    return dataset"
   ]
  },
  {
   "cell_type": "code",
   "execution_count": 10,
   "metadata": {
    "id": "UrG17CqN8ql0"
   },
   "outputs": [],
   "source": [
    "# Generate the dataset windows\n",
    "train_set = windowed_dataset(x_train, window_size, batch_size, shuffle_buffer_size)"
   ]
  },
  {
   "cell_type": "code",
   "execution_count": 14,
   "metadata": {},
   "outputs": [
    {
     "data": {
      "text/plain": [
       "16"
      ]
     },
     "execution_count": 14,
     "metadata": {},
     "output_type": "execute_result"
    }
   ],
   "source": [
    "batch_size"
   ]
  },
  {
   "cell_type": "markdown",
   "metadata": {
    "id": "EQHk3KPuPbQU"
   },
   "source": [
    "## Build the Model\n",
    "\n",
    "Here is the model architecture you will be using. It is very similar to the last RNN you built but with the [Conv1D](https://www.tensorflow.org/api_docs/python/tf/keras/layers/Conv1D) layer at the input. One important [argument](https://www.tensorflow.org/api_docs/python/tf/keras/layers/Conv1D#args) here is the `padding`. For time series data, it is good practice to not let computations for a particular time step to be affected by values into the future. Here is one way of looking at it:\n",
    "\n",
    "* Let's say you have a small time series window with these values: `[1, 2, 3, 4, 5]`. This means the value `1` is at `t=0`, `2` is at `t=1`, etc.\n",
    "* If you have a 1D kernel of size `3`, then the first convolution will be for the values at `[1, 2, 3]` which are values for `t=0` to `t=2`.\n",
    "* When you pass this to the first timestep of the `LSTM` after the convolution, it means that the value at `t=0` of the LSTM depends on `t=1` and `t=2` which are values into the future.\n",
    "* For time series data, you want computations to only rely on current and previous time steps.\n",
    "* One way to do that is to pad the array depending on the kernel size and stride. For a kernel size of 3 and stride of 1, the window can be padded as such: `[0, 0, 1, 2, 3, 4, 5]`. `1` is still at `t=0` and two zeroes are prepended to simulate values in the past.\n",
    "* This way, the first stride will be at `[0, 0, 1]` and this does not contain any future values when it is passed on to subsequent layers.\n",
    "\n",
    "The `Conv1D` layer does this kind of padding by setting `padding=causal` and you'll see that below."
   ]
  },
  {
   "cell_type": "code",
   "execution_count": 8,
   "metadata": {
    "id": "Yqc2GTsps0qf"
   },
   "outputs": [
    {
     "name": "stdout",
     "output_type": "stream",
     "text": [
      "Model: \"sequential\"\n",
      "_________________________________________________________________\n",
      " Layer (type)                Output Shape              Param #   \n",
      "=================================================================\n",
      " conv1d (Conv1D)             (None, 20, 64)            256       \n",
      "                                                                 \n",
      " lstm (LSTM)                 (None, 20, 64)            33024     \n",
      "                                                                 \n",
      " lstm_1 (LSTM)               (None, 64)                33024     \n",
      "                                                                 \n",
      " dense (Dense)               (None, 1)                 65        \n",
      "                                                                 \n",
      " lambda (Lambda)             (None, 1)                 0         \n",
      "                                                                 \n",
      "=================================================================\n",
      "Total params: 66,369\n",
      "Trainable params: 66,369\n",
      "Non-trainable params: 0\n",
      "_________________________________________________________________\n"
     ]
    }
   ],
   "source": [
    "# Reset states generated by Keras\n",
    "tf.keras.backend.clear_session()\n",
    "\n",
    "# Build the model\n",
    "model = tf.keras.models.Sequential([\n",
    "  tf.keras.layers.Conv1D(filters=64, kernel_size=3,\n",
    "                      strides=1, padding=\"causal\",\n",
    "                      activation=\"relu\",\n",
    "                      input_shape=[window_size, 1]),\n",
    "  tf.keras.layers.LSTM(64, return_sequences=True),\n",
    "  tf.keras.layers.LSTM(64),\n",
    "  tf.keras.layers.Dense(1),\n",
    "  tf.keras.layers.Lambda(lambda x: x * 400)\n",
    "])\n",
    "\n",
    "# Print the model summary\n",
    "model.summary()"
   ]
  },
  {
   "cell_type": "markdown",
   "metadata": {
    "id": "cQdIfpeBPmTm"
   },
   "source": [
    "## Tune the Learning Rate\n",
    "\n",
    "In the previous labs, you are using different models for tuning and training. That is a valid approach but you can also use the same model for both. Before tuning, you can use the [`get_weights()`](https://www.tensorflow.org/api_docs/python/tf/keras/layers/Layer#get_weights) method so you can reset it later."
   ]
  },
  {
   "cell_type": "code",
   "execution_count": 15,
   "metadata": {
    "id": "-Fo71QNs7UJY"
   },
   "outputs": [],
   "source": [
    "# Get initial weights\n",
    "init_weights = model.get_weights()"
   ]
  },
  {
   "cell_type": "markdown",
   "metadata": {
    "id": "bcVbJDQNAe39"
   },
   "source": [
    "After that, you can tune the model as usual."
   ]
  },
  {
   "cell_type": "code",
   "execution_count": 22,
   "metadata": {
    "id": "Dcbk9QMEKsLi"
   },
   "outputs": [
    {
     "name": "stdout",
     "output_type": "stream",
     "text": [
      "Epoch 1/100\n",
      "62/62 [==============================] - 13s 20ms/step - loss: 113.4002 - lr: 1.0000e-08\n",
      "Epoch 2/100\n",
      "62/62 [==============================] - 1s 17ms/step - loss: 21.7409 - lr: 1.1220e-08\n",
      "Epoch 3/100\n",
      "62/62 [==============================] - 1s 16ms/step - loss: 14.5324 - lr: 1.2589e-08\n",
      "Epoch 4/100\n",
      "62/62 [==============================] - 1s 15ms/step - loss: 16.2259 - lr: 1.4125e-08\n",
      "Epoch 5/100\n",
      "62/62 [==============================] - 1s 15ms/step - loss: 19.8598 - lr: 1.5849e-08\n",
      "Epoch 6/100\n",
      "62/62 [==============================] - 1s 15ms/step - loss: 15.7821 - lr: 1.7783e-08\n",
      "Epoch 7/100\n",
      "62/62 [==============================] - 1s 16ms/step - loss: 15.6626 - lr: 1.9953e-08\n",
      "Epoch 8/100\n",
      "62/62 [==============================] - 1s 14ms/step - loss: 11.0577 - lr: 2.2387e-08\n",
      "Epoch 9/100\n",
      "62/62 [==============================] - 1s 16ms/step - loss: 9.5948 - lr: 2.5119e-08\n",
      "Epoch 10/100\n",
      "62/62 [==============================] - 1s 14ms/step - loss: 8.9865 - lr: 2.8184e-08\n",
      "Epoch 11/100\n",
      "62/62 [==============================] - 1s 14ms/step - loss: 8.4613 - lr: 3.1623e-08\n",
      "Epoch 12/100\n",
      "62/62 [==============================] - 1s 13ms/step - loss: 7.7655 - lr: 3.5481e-08\n",
      "Epoch 13/100\n",
      "62/62 [==============================] - 1s 16ms/step - loss: 7.2805 - lr: 3.9811e-08\n",
      "Epoch 14/100\n",
      "62/62 [==============================] - 1s 17ms/step - loss: 6.8507 - lr: 4.4668e-08\n",
      "Epoch 15/100\n",
      "62/62 [==============================] - 1s 16ms/step - loss: 6.6214 - lr: 5.0119e-08\n",
      "Epoch 16/100\n",
      "62/62 [==============================] - 1s 17ms/step - loss: 6.4130 - lr: 5.6234e-08\n",
      "Epoch 17/100\n",
      "62/62 [==============================] - 1s 17ms/step - loss: 6.3123 - lr: 6.3096e-08\n",
      "Epoch 18/100\n",
      "62/62 [==============================] - 1s 15ms/step - loss: 6.1064 - lr: 7.0795e-08\n",
      "Epoch 19/100\n",
      "62/62 [==============================] - 1s 14ms/step - loss: 6.1112 - lr: 7.9433e-08\n",
      "Epoch 20/100\n",
      "62/62 [==============================] - 1s 15ms/step - loss: 5.9679 - lr: 8.9125e-08\n",
      "Epoch 21/100\n",
      "62/62 [==============================] - 1s 15ms/step - loss: 6.0257 - lr: 1.0000e-07\n",
      "Epoch 22/100\n",
      "62/62 [==============================] - 1s 16ms/step - loss: 5.8522 - lr: 1.1220e-07\n",
      "Epoch 23/100\n",
      "62/62 [==============================] - 1s 16ms/step - loss: 5.8420 - lr: 1.2589e-07\n",
      "Epoch 24/100\n",
      "62/62 [==============================] - 1s 14ms/step - loss: 5.9682 - lr: 1.4125e-07\n",
      "Epoch 25/100\n",
      "62/62 [==============================] - 1s 14ms/step - loss: 5.7022 - lr: 1.5849e-07\n",
      "Epoch 26/100\n",
      "62/62 [==============================] - 1s 14ms/step - loss: 5.6224 - lr: 1.7783e-07\n",
      "Epoch 27/100\n",
      "62/62 [==============================] - 1s 15ms/step - loss: 5.6749 - lr: 1.9953e-07\n",
      "Epoch 28/100\n",
      "62/62 [==============================] - 1s 15ms/step - loss: 6.0163 - lr: 2.2387e-07\n",
      "Epoch 29/100\n",
      "62/62 [==============================] - 1s 16ms/step - loss: 5.6407 - lr: 2.5119e-07\n",
      "Epoch 30/100\n",
      "62/62 [==============================] - 1s 15ms/step - loss: 5.3938 - lr: 2.8184e-07\n",
      "Epoch 31/100\n",
      "62/62 [==============================] - 1s 14ms/step - loss: 5.2715 - lr: 3.1623e-07\n",
      "Epoch 32/100\n",
      "62/62 [==============================] - 1s 15ms/step - loss: 5.6024 - lr: 3.5481e-07\n",
      "Epoch 33/100\n",
      "62/62 [==============================] - 1s 15ms/step - loss: 5.2764 - lr: 3.9811e-07\n",
      "Epoch 34/100\n",
      "62/62 [==============================] - 1s 14ms/step - loss: 5.3617 - lr: 4.4668e-07\n",
      "Epoch 35/100\n",
      "62/62 [==============================] - 1s 15ms/step - loss: 5.1949 - lr: 5.0119e-07\n",
      "Epoch 36/100\n",
      "62/62 [==============================] - 1s 15ms/step - loss: 5.0666 - lr: 5.6234e-07\n",
      "Epoch 37/100\n",
      "62/62 [==============================] - 1s 17ms/step - loss: 5.2085 - lr: 6.3096e-07\n",
      "Epoch 38/100\n",
      "62/62 [==============================] - 1s 16ms/step - loss: 5.4614 - lr: 7.0795e-07\n",
      "Epoch 39/100\n",
      "62/62 [==============================] - 1s 16ms/step - loss: 5.8633 - lr: 7.9433e-07\n",
      "Epoch 40/100\n",
      "62/62 [==============================] - 1s 15ms/step - loss: 5.3231 - lr: 8.9125e-07\n",
      "Epoch 41/100\n",
      "62/62 [==============================] - 1s 14ms/step - loss: 5.5981 - lr: 1.0000e-06\n",
      "Epoch 42/100\n",
      "62/62 [==============================] - 1s 13ms/step - loss: 5.4559 - lr: 1.1220e-06\n",
      "Epoch 43/100\n",
      "62/62 [==============================] - 1s 13ms/step - loss: 6.1044 - lr: 1.2589e-06\n",
      "Epoch 44/100\n",
      "62/62 [==============================] - 1s 14ms/step - loss: 6.2162 - lr: 1.4125e-06\n",
      "Epoch 45/100\n",
      "62/62 [==============================] - 1s 13ms/step - loss: 6.0777 - lr: 1.5849e-06\n",
      "Epoch 46/100\n",
      "62/62 [==============================] - 1s 14ms/step - loss: 7.3012 - lr: 1.7783e-06\n",
      "Epoch 47/100\n",
      "62/62 [==============================] - 1s 16ms/step - loss: 5.4178 - lr: 1.9953e-06\n",
      "Epoch 48/100\n",
      "62/62 [==============================] - 1s 13ms/step - loss: 5.0173 - lr: 2.2387e-06\n",
      "Epoch 49/100\n",
      "62/62 [==============================] - 1s 15ms/step - loss: 5.9495 - lr: 2.5119e-06\n",
      "Epoch 50/100\n",
      "62/62 [==============================] - 1s 17ms/step - loss: 6.1134 - lr: 2.8184e-06\n",
      "Epoch 51/100\n",
      "62/62 [==============================] - 1s 14ms/step - loss: 7.7466 - lr: 3.1623e-06\n",
      "Epoch 52/100\n",
      "62/62 [==============================] - 1s 14ms/step - loss: 6.4223 - lr: 3.5481e-06\n",
      "Epoch 53/100\n",
      "62/62 [==============================] - 1s 13ms/step - loss: 5.9042 - lr: 3.9811e-06\n",
      "Epoch 54/100\n",
      "62/62 [==============================] - 1s 13ms/step - loss: 8.6697 - lr: 4.4668e-06\n",
      "Epoch 55/100\n",
      "62/62 [==============================] - 1s 13ms/step - loss: 7.8845 - lr: 5.0119e-06\n",
      "Epoch 56/100\n",
      "62/62 [==============================] - 1s 13ms/step - loss: 8.1090 - lr: 5.6234e-06\n",
      "Epoch 57/100\n",
      "62/62 [==============================] - 1s 14ms/step - loss: 7.2125 - lr: 6.3096e-06\n",
      "Epoch 58/100\n",
      "62/62 [==============================] - 1s 13ms/step - loss: 10.9947 - lr: 7.0795e-06\n",
      "Epoch 59/100\n",
      "62/62 [==============================] - 1s 13ms/step - loss: 8.9708 - lr: 7.9433e-06\n",
      "Epoch 60/100\n",
      "62/62 [==============================] - 1s 16ms/step - loss: 8.1083 - lr: 8.9125e-06\n",
      "Epoch 61/100\n",
      "62/62 [==============================] - 1s 13ms/step - loss: 12.1845 - lr: 1.0000e-05\n",
      "Epoch 62/100\n",
      "62/62 [==============================] - 1s 15ms/step - loss: 5.8772 - lr: 1.1220e-05\n",
      "Epoch 63/100\n",
      "62/62 [==============================] - 1s 14ms/step - loss: 7.6480 - lr: 1.2589e-05\n",
      "Epoch 64/100\n",
      "62/62 [==============================] - 1s 13ms/step - loss: 11.3196 - lr: 1.4125e-05\n",
      "Epoch 65/100\n",
      "62/62 [==============================] - 1s 13ms/step - loss: 7.9114 - lr: 1.5849e-05\n",
      "Epoch 66/100\n",
      "62/62 [==============================] - 1s 13ms/step - loss: 8.5067 - lr: 1.7783e-05\n",
      "Epoch 67/100\n",
      "62/62 [==============================] - 1s 15ms/step - loss: 16.0295 - lr: 1.9953e-05\n",
      "Epoch 68/100\n",
      "62/62 [==============================] - 1s 13ms/step - loss: 11.0003 - lr: 2.2387e-05\n",
      "Epoch 69/100\n",
      "62/62 [==============================] - 1s 14ms/step - loss: 7.1577 - lr: 2.5119e-05\n",
      "Epoch 70/100\n",
      "62/62 [==============================] - 1s 14ms/step - loss: 8.0375 - lr: 2.8184e-05\n",
      "Epoch 71/100\n",
      "62/62 [==============================] - 1s 13ms/step - loss: 9.9447 - lr: 3.1623e-05\n",
      "Epoch 72/100\n",
      "62/62 [==============================] - 1s 13ms/step - loss: 7.3190 - lr: 3.5481e-05\n",
      "Epoch 73/100\n",
      "62/62 [==============================] - 1s 14ms/step - loss: 12.0831 - lr: 3.9811e-05\n",
      "Epoch 74/100\n",
      "62/62 [==============================] - 1s 16ms/step - loss: 9.8584 - lr: 4.4668e-05\n",
      "Epoch 75/100\n",
      "62/62 [==============================] - 1s 14ms/step - loss: 8.4689 - lr: 5.0119e-05\n",
      "Epoch 76/100\n",
      "62/62 [==============================] - 1s 13ms/step - loss: 9.7817 - lr: 5.6234e-05\n",
      "Epoch 77/100\n",
      "62/62 [==============================] - 1s 13ms/step - loss: 6.5716 - lr: 6.3096e-05\n",
      "Epoch 78/100\n",
      "62/62 [==============================] - 1s 14ms/step - loss: 6.9127 - lr: 7.0795e-05\n",
      "Epoch 79/100\n",
      "62/62 [==============================] - 1s 13ms/step - loss: 9.7208 - lr: 7.9433e-05\n",
      "Epoch 80/100\n",
      "62/62 [==============================] - 1s 13ms/step - loss: 9.6169 - lr: 8.9125e-05\n",
      "Epoch 81/100\n",
      "62/62 [==============================] - 1s 15ms/step - loss: 13.6889 - lr: 1.0000e-04\n",
      "Epoch 82/100\n",
      "62/62 [==============================] - 1s 14ms/step - loss: 7.8834 - lr: 1.1220e-04\n",
      "Epoch 83/100\n",
      "62/62 [==============================] - 1s 16ms/step - loss: 12.1535 - lr: 1.2589e-04\n",
      "Epoch 84/100\n",
      "62/62 [==============================] - 1s 14ms/step - loss: 18.3439 - lr: 1.4125e-04\n",
      "Epoch 85/100\n",
      "62/62 [==============================] - 1s 15ms/step - loss: 22.7472 - lr: 1.5849e-04\n",
      "Epoch 86/100\n",
      "62/62 [==============================] - 1s 12ms/step - loss: 19.2235 - lr: 1.7783e-04\n",
      "Epoch 87/100\n",
      "62/62 [==============================] - 1s 13ms/step - loss: 27.6821 - lr: 1.9953e-04\n",
      "Epoch 88/100\n",
      "62/62 [==============================] - 1s 13ms/step - loss: 15.2099 - lr: 2.2387e-04\n",
      "Epoch 89/100\n",
      "62/62 [==============================] - 1s 16ms/step - loss: 26.4180 - lr: 2.5119e-04\n",
      "Epoch 90/100\n",
      "62/62 [==============================] - 1s 14ms/step - loss: 24.8488 - lr: 2.8184e-04\n",
      "Epoch 91/100\n",
      "62/62 [==============================] - 1s 16ms/step - loss: 28.7242 - lr: 3.1623e-04\n",
      "Epoch 92/100\n",
      "62/62 [==============================] - 1s 14ms/step - loss: 28.0303 - lr: 3.5481e-04\n",
      "Epoch 93/100\n",
      "62/62 [==============================] - 1s 13ms/step - loss: 35.9638 - lr: 3.9811e-04\n",
      "Epoch 94/100\n",
      "62/62 [==============================] - 1s 13ms/step - loss: 38.3394 - lr: 4.4668e-04\n",
      "Epoch 95/100\n",
      "62/62 [==============================] - 1s 15ms/step - loss: 36.8591 - lr: 5.0119e-04\n",
      "Epoch 96/100\n",
      "62/62 [==============================] - 1s 15ms/step - loss: 71.0535 - lr: 5.6234e-04\n",
      "Epoch 97/100\n",
      "62/62 [==============================] - 1s 15ms/step - loss: 77.5482 - lr: 6.3096e-04\n",
      "Epoch 98/100\n",
      "62/62 [==============================] - 1s 14ms/step - loss: 99.4493 - lr: 7.0795e-04\n",
      "Epoch 99/100\n",
      "62/62 [==============================] - 1s 13ms/step - loss: 107.0883 - lr: 7.9433e-04\n",
      "Epoch 100/100\n",
      "62/62 [==============================] - 1s 15ms/step - loss: 72.6726 - lr: 8.9125e-04\n"
     ]
    }
   ],
   "source": [
    "# Set the learning rate scheduler\n",
    "lr_schedule = tf.keras.callbacks.LearningRateScheduler(\n",
    "    lambda epoch: 1e-8 * 10**(epoch / 20))\n",
    "\n",
    "# Initialize the optimizer\n",
    "optimizer = tf.keras.optimizers.SGD(momentum=0.9)\n",
    "\n",
    "# Set the training parameters\n",
    "model.compile(loss=tf.keras.losses.Huber(), optimizer=optimizer)\n",
    "\n",
    "# Train the model\n",
    "history = model.fit(train_set, epochs=100, callbacks=[lr_schedule])"
   ]
  },
  {
   "cell_type": "code",
   "execution_count": 23,
   "metadata": {
    "id": "MjTvASUns0qh"
   },
   "outputs": [
    {
     "data": {
      "text/plain": [
       "(1e-08, 0.001, 0.0, 50.0)"
      ]
     },
     "execution_count": 23,
     "metadata": {},
     "output_type": "execute_result"
    },
    {
     "data": {
      "image/png": "[encoded data removed]",
      "text/plain": [
       "<Figure size 720x432 with 1 Axes>"
      ]
     },
     "metadata": {
      "needs_background": "light"
     },
     "output_type": "display_data"
    }
   ],
   "source": [
    "# Define the learning rate array\n",
    "lrs = 1e-8 * (10 ** (np.arange(100) / 20))\n",
    "\n",
    "# Set the figure size\n",
    "plt.figure(figsize=(10, 6))\n",
    "\n",
    "# Set the grid\n",
    "plt.grid(True)\n",
    "\n",
    "# Plot the loss in log scale\n",
    "plt.semilogx(lrs, history.history[\"loss\"])\n",
    "\n",
    "# Increase the tickmarks size\n",
    "plt.tick_params('both', length=10, width=1, which='both')\n",
    "\n",
    "# Set the plot boundaries\n",
    "plt.axis([1e-8, 1e-3, 0, 50])"
   ]
  },
  {
   "cell_type": "markdown",
   "metadata": {
    "id": "7-mAgyNmdJCa"
   },
   "source": [
    "## Train the Model\n",
    "\n",
    "To reset the weights, you can simply call the [`set_weights()`](https://www.tensorflow.org/api_docs/python/tf/keras/layers/Layer#set_weights) and pass in the saved weights from earlier."
   ]
  },
  {
   "cell_type": "code",
   "execution_count": 24,
   "metadata": {
    "id": "MRyv3N36XdNo"
   },
   "outputs": [],
   "source": [
    "# Reset states generated by Keras\n",
    "tf.keras.backend.clear_session()\n",
    "\n",
    "# Reset the weights\n",
    "model.set_weights(init_weights)"
   ]
  },
  {
   "cell_type": "markdown",
   "metadata": {
    "id": "MOpeP196AvAU"
   },
   "source": [
    "Then you can set the training parameters and start training."
   ]
  },
  {
   "cell_type": "code",
   "execution_count": 25,
   "metadata": {
    "id": "2TuiT7GWRuA5"
   },
   "outputs": [],
   "source": [
    "# Set the learning rate\n",
    "learning_rate = 1e-7\n",
    "\n",
    "# Set the optimizer\n",
    "optimizer = tf.keras.optimizers.SGD(learning_rate=learning_rate, momentum=0.9)\n",
    "\n",
    "# Set the training parameters\n",
    "model.compile(loss=tf.keras.losses.Huber(),\n",
    "              optimizer=optimizer,\n",
    "              metrics=[\"mae\"])\n",
    "              "
   ]
  },
  {
   "cell_type": "code",
   "execution_count": 26,
   "metadata": {
    "id": "wHt0qDRyPe-N"
   },
   "outputs": [
    {
     "name": "stdout",
     "output_type": "stream",
     "text": [
      "Epoch 1/500\n",
      "62/62 [==============================] - 4s 13ms/step - loss: 55.1448 - mae: 55.6411\n",
      "Epoch 2/500\n",
      "62/62 [==============================] - 1s 17ms/step - loss: 10.3611 - mae: 10.8485\n",
      "Epoch 3/500\n",
      "62/62 [==============================] - 1s 16ms/step - loss: 8.4137 - mae: 8.8999\n",
      "Epoch 4/500\n",
      "62/62 [==============================] - 1s 16ms/step - loss: 7.1675 - mae: 7.6546\n",
      "Epoch 5/500\n",
      "62/62 [==============================] - 1s 16ms/step - loss: 6.3543 - mae: 6.8323\n",
      "Epoch 6/500\n",
      "62/62 [==============================] - 1s 16ms/step - loss: 5.9970 - mae: 6.4790\n",
      "Epoch 7/500\n",
      "62/62 [==============================] - 1s 15ms/step - loss: 5.9241 - mae: 6.4047\n",
      "Epoch 8/500\n",
      "62/62 [==============================] - 1s 15ms/step - loss: 5.7543 - mae: 6.2325\n",
      "Epoch 9/500\n",
      "62/62 [==============================] - 1s 15ms/step - loss: 5.7422 - mae: 6.2215\n",
      "Epoch 10/500\n",
      "62/62 [==============================] - 1s 15ms/step - loss: 5.6832 - mae: 6.1637\n",
      "Epoch 11/500\n",
      "62/62 [==============================] - 1s 17ms/step - loss: 5.6280 - mae: 6.1050\n",
      "Epoch 12/500\n",
      "62/62 [==============================] - 1s 15ms/step - loss: 5.5708 - mae: 6.0521\n",
      "Epoch 13/500\n",
      "62/62 [==============================] - 1s 16ms/step - loss: 5.4923 - mae: 5.9713\n",
      "Epoch 14/500\n",
      "62/62 [==============================] - 1s 17ms/step - loss: 5.4710 - mae: 5.9449\n",
      "Epoch 15/500\n",
      "62/62 [==============================] - 1s 14ms/step - loss: 5.4665 - mae: 5.9439\n",
      "Epoch 16/500\n",
      "62/62 [==============================] - 1s 14ms/step - loss: 5.3976 - mae: 5.8768\n",
      "Epoch 17/500\n",
      "62/62 [==============================] - 1s 14ms/step - loss: 5.4251 - mae: 5.9040\n",
      "Epoch 18/500\n",
      "62/62 [==============================] - 1s 14ms/step - loss: 5.4053 - mae: 5.8851\n",
      "Epoch 19/500\n",
      "62/62 [==============================] - 1s 14ms/step - loss: 5.3305 - mae: 5.8092\n",
      "Epoch 20/500\n",
      "62/62 [==============================] - 1s 14ms/step - loss: 5.3046 - mae: 5.7803\n",
      "Epoch 21/500\n",
      "62/62 [==============================] - 1s 14ms/step - loss: 5.2389 - mae: 5.7186\n",
      "Epoch 22/500\n",
      "62/62 [==============================] - 1s 14ms/step - loss: 5.3872 - mae: 5.8651\n",
      "Epoch 23/500\n",
      "62/62 [==============================] - 1s 14ms/step - loss: 5.1807 - mae: 5.6598\n",
      "Epoch 24/500\n",
      "62/62 [==============================] - 1s 14ms/step - loss: 5.1510 - mae: 5.6270\n",
      "Epoch 25/500\n",
      "62/62 [==============================] - 1s 14ms/step - loss: 5.1547 - mae: 5.6308\n",
      "Epoch 26/500\n",
      "62/62 [==============================] - 1s 14ms/step - loss: 5.1283 - mae: 5.6085\n",
      "Epoch 27/500\n",
      "62/62 [==============================] - 1s 14ms/step - loss: 5.1838 - mae: 5.6612\n",
      "Epoch 28/500\n",
      "62/62 [==============================] - 1s 14ms/step - loss: 5.1192 - mae: 5.5986\n",
      "Epoch 29/500\n",
      "62/62 [==============================] - 1s 14ms/step - loss: 5.0643 - mae: 5.5440\n",
      "Epoch 30/500\n",
      "62/62 [==============================] - 1s 14ms/step - loss: 5.0995 - mae: 5.5772\n",
      "Epoch 31/500\n",
      "62/62 [==============================] - 1s 15ms/step - loss: 5.0562 - mae: 5.5379\n",
      "Epoch 32/500\n",
      "62/62 [==============================] - 1s 13ms/step - loss: 4.9573 - mae: 5.4349\n",
      "Epoch 33/500\n",
      "62/62 [==============================] - 1s 13ms/step - loss: 4.9568 - mae: 5.4346\n",
      "Epoch 34/500\n",
      "62/62 [==============================] - 1s 13ms/step - loss: 4.9110 - mae: 5.3878\n",
      "Epoch 35/500\n",
      "62/62 [==============================] - 1s 14ms/step - loss: 5.0144 - mae: 5.4927\n",
      "Epoch 36/500\n",
      "62/62 [==============================] - 1s 13ms/step - loss: 4.8768 - mae: 5.3558\n",
      "Epoch 37/500\n",
      "62/62 [==============================] - 1s 13ms/step - loss: 4.8857 - mae: 5.3612\n",
      "Epoch 38/500\n",
      "62/62 [==============================] - 1s 13ms/step - loss: 4.8961 - mae: 5.3743\n",
      "Epoch 39/500\n",
      "62/62 [==============================] - 1s 13ms/step - loss: 4.8176 - mae: 5.2959\n",
      "Epoch 40/500\n",
      "62/62 [==============================] - 1s 13ms/step - loss: 4.8501 - mae: 5.3293\n",
      "Epoch 41/500\n",
      "62/62 [==============================] - 1s 13ms/step - loss: 4.7777 - mae: 5.2530\n",
      "Epoch 42/500\n",
      "62/62 [==============================] - 1s 13ms/step - loss: 4.7564 - mae: 5.2319\n",
      "Epoch 43/500\n",
      "62/62 [==============================] - 1s 13ms/step - loss: 4.8534 - mae: 5.3299\n",
      "Epoch 44/500\n",
      "62/62 [==============================] - 1s 14ms/step - loss: 4.7559 - mae: 5.2295\n",
      "Epoch 45/500\n",
      "62/62 [==============================] - 1s 15ms/step - loss: 4.7134 - mae: 5.1909\n",
      "Epoch 46/500\n",
      "62/62 [==============================] - 1s 15ms/step - loss: 4.8037 - mae: 5.2730\n",
      "Epoch 47/500\n",
      "62/62 [==============================] - 1s 14ms/step - loss: 4.6902 - mae: 5.1660\n",
      "Epoch 48/500\n",
      "62/62 [==============================] - 1s 13ms/step - loss: 4.7103 - mae: 5.1895\n",
      "Epoch 49/500\n",
      "62/62 [==============================] - 1s 13ms/step - loss: 4.7039 - mae: 5.1853\n",
      "Epoch 50/500\n",
      "62/62 [==============================] - 1s 13ms/step - loss: 4.6155 - mae: 5.0892\n",
      "Epoch 51/500\n",
      "62/62 [==============================] - 1s 13ms/step - loss: 4.6825 - mae: 5.1601\n",
      "Epoch 52/500\n",
      "62/62 [==============================] - 1s 13ms/step - loss: 4.5615 - mae: 5.0403\n",
      "Epoch 53/500\n",
      "62/62 [==============================] - 1s 14ms/step - loss: 4.6356 - mae: 5.1140\n",
      "Epoch 54/500\n",
      "62/62 [==============================] - 1s 14ms/step - loss: 4.5063 - mae: 4.9822\n",
      "Epoch 55/500\n",
      "62/62 [==============================] - 1s 13ms/step - loss: 4.6430 - mae: 5.1193\n",
      "Epoch 56/500\n",
      "62/62 [==============================] - 1s 13ms/step - loss: 4.4769 - mae: 4.9521\n",
      "Epoch 57/500\n",
      "62/62 [==============================] - 1s 13ms/step - loss: 4.5550 - mae: 5.0320\n",
      "Epoch 58/500\n",
      "62/62 [==============================] - 1s 13ms/step - loss: 4.4905 - mae: 4.9622\n",
      "Epoch 59/500\n",
      "62/62 [==============================] - 1s 13ms/step - loss: 4.5133 - mae: 4.9919\n",
      "Epoch 60/500\n",
      "62/62 [==============================] - 1s 14ms/step - loss: 4.4717 - mae: 4.9444\n",
      "Epoch 61/500\n",
      "62/62 [==============================] - 1s 13ms/step - loss: 4.5114 - mae: 4.9882\n",
      "Epoch 62/500\n",
      "62/62 [==============================] - 1s 13ms/step - loss: 4.4602 - mae: 4.9381\n",
      "Epoch 63/500\n",
      "62/62 [==============================] - 1s 13ms/step - loss: 4.6550 - mae: 5.1308\n",
      "Epoch 64/500\n",
      "62/62 [==============================] - 1s 13ms/step - loss: 4.4563 - mae: 4.9298\n",
      "Epoch 65/500\n",
      "62/62 [==============================] - 1s 16ms/step - loss: 4.5248 - mae: 5.0032\n",
      "Epoch 66/500\n",
      "62/62 [==============================] - 1s 17ms/step - loss: 4.4580 - mae: 4.9352\n",
      "Epoch 67/500\n",
      "62/62 [==============================] - 1s 15ms/step - loss: 4.4088 - mae: 4.8855\n",
      "Epoch 68/500\n",
      "62/62 [==============================] - 1s 16ms/step - loss: 4.3916 - mae: 4.8648\n",
      "Epoch 69/500\n",
      "62/62 [==============================] - 1s 18ms/step - loss: 4.4665 - mae: 4.9415\n",
      "Epoch 70/500\n",
      "62/62 [==============================] - 1s 17ms/step - loss: 4.4454 - mae: 4.9193\n",
      "Epoch 71/500\n",
      "62/62 [==============================] - 1s 16ms/step - loss: 4.4347 - mae: 4.9100\n",
      "Epoch 72/500\n",
      "62/62 [==============================] - 1s 16ms/step - loss: 4.4567 - mae: 4.9338\n",
      "Epoch 73/500\n",
      "62/62 [==============================] - 1s 15ms/step - loss: 4.4142 - mae: 4.8891\n",
      "Epoch 74/500\n",
      "62/62 [==============================] - 1s 16ms/step - loss: 4.3881 - mae: 4.8644\n",
      "Epoch 75/500\n",
      "62/62 [==============================] - 1s 15ms/step - loss: 4.4210 - mae: 4.8966\n",
      "Epoch 76/500\n",
      "62/62 [==============================] - 1s 17ms/step - loss: 4.3636 - mae: 4.8379\n",
      "Epoch 77/500\n",
      "62/62 [==============================] - 1s 16ms/step - loss: 4.4008 - mae: 4.8789\n",
      "Epoch 78/500\n",
      "62/62 [==============================] - 1s 17ms/step - loss: 4.4151 - mae: 4.8899\n",
      "Epoch 79/500\n",
      "62/62 [==============================] - 1s 14ms/step - loss: 4.3981 - mae: 4.8710\n",
      "Epoch 80/500\n",
      "62/62 [==============================] - 1s 15ms/step - loss: 4.3454 - mae: 4.8215\n",
      "Epoch 81/500\n",
      "62/62 [==============================] - 1s 14ms/step - loss: 4.3609 - mae: 4.8350\n",
      "Epoch 82/500\n",
      "62/62 [==============================] - 1s 14ms/step - loss: 4.3992 - mae: 4.8738\n",
      "Epoch 83/500\n",
      "62/62 [==============================] - 1s 13ms/step - loss: 4.4440 - mae: 4.9163\n",
      "Epoch 84/500\n",
      "62/62 [==============================] - 1s 14ms/step - loss: 4.3665 - mae: 4.8416\n",
      "Epoch 85/500\n",
      "62/62 [==============================] - 1s 14ms/step - loss: 4.4414 - mae: 4.9182\n",
      "Epoch 86/500\n",
      "62/62 [==============================] - 1s 15ms/step - loss: 4.4278 - mae: 4.9035\n",
      "Epoch 87/500\n",
      "62/62 [==============================] - 1s 15ms/step - loss: 4.3965 - mae: 4.8733\n",
      "Epoch 88/500\n",
      "62/62 [==============================] - 1s 15ms/step - loss: 4.3231 - mae: 4.7974\n",
      "Epoch 89/500\n",
      "62/62 [==============================] - 1s 14ms/step - loss: 4.4210 - mae: 4.8959\n",
      "Epoch 90/500\n",
      "62/62 [==============================] - 1s 14ms/step - loss: 4.3222 - mae: 4.7958\n",
      "Epoch 91/500\n",
      "62/62 [==============================] - 1s 14ms/step - loss: 4.5554 - mae: 5.0341\n",
      "Epoch 92/500\n",
      "62/62 [==============================] - 1s 14ms/step - loss: 4.3548 - mae: 4.8302\n",
      "Epoch 93/500\n",
      "62/62 [==============================] - 1s 14ms/step - loss: 4.3600 - mae: 4.8334\n",
      "Epoch 94/500\n",
      "62/62 [==============================] - 1s 14ms/step - loss: 4.3666 - mae: 4.8396\n",
      "Epoch 95/500\n",
      "62/62 [==============================] - 1s 14ms/step - loss: 4.3947 - mae: 4.8714\n",
      "Epoch 96/500\n",
      "62/62 [==============================] - 1s 13ms/step - loss: 4.3142 - mae: 4.7876\n",
      "Epoch 97/500\n",
      "62/62 [==============================] - 1s 13ms/step - loss: 4.4103 - mae: 4.8832\n",
      "Epoch 98/500\n",
      "62/62 [==============================] - 1s 14ms/step - loss: 4.3378 - mae: 4.8137\n",
      "Epoch 99/500\n",
      "62/62 [==============================] - 1s 15ms/step - loss: 4.3203 - mae: 4.7927\n",
      "Epoch 100/500\n",
      "62/62 [==============================] - 1s 17ms/step - loss: 4.3579 - mae: 4.8322\n",
      "Epoch 101/500\n",
      "62/62 [==============================] - 1s 17ms/step - loss: 4.4219 - mae: 4.8982\n",
      "Epoch 102/500\n",
      "62/62 [==============================] - 1s 17ms/step - loss: 4.4110 - mae: 4.8881\n",
      "Epoch 103/500\n",
      "62/62 [==============================] - 1s 18ms/step - loss: 4.4192 - mae: 4.8904\n",
      "Epoch 104/500\n",
      "62/62 [==============================] - 1s 17ms/step - loss: 4.3858 - mae: 4.8617\n",
      "Epoch 105/500\n",
      "62/62 [==============================] - 1s 18ms/step - loss: 4.3230 - mae: 4.7954\n",
      "Epoch 106/500\n",
      "62/62 [==============================] - 1s 17ms/step - loss: 4.3297 - mae: 4.8013\n",
      "Epoch 107/500\n",
      "62/62 [==============================] - 1s 17ms/step - loss: 4.4716 - mae: 4.9510\n",
      "Epoch 108/500\n",
      "62/62 [==============================] - 1s 16ms/step - loss: 4.3356 - mae: 4.8112\n",
      "Epoch 109/500\n",
      "46/62 [=====================>........] - ETA: 0s - loss: 4.3212 - mae: 4.7984"
     ]
    },
    {
     "ename": "KeyboardInterrupt",
     "evalue": "",
     "output_type": "error",
     "traceback": [
      "\u001b[1;31m---------------------------------------------------------------------------\u001b[0m",
      "\u001b[1;31mKeyboardInterrupt\u001b[0m                         Traceback (most recent call last)",
      "\u001b[1;32m<ipython-input-26-87d828970d89>\u001b[0m in \u001b[0;36m<module>\u001b[1;34m\u001b[0m\n\u001b[0;32m      1\u001b[0m \u001b[1;31m# Train the model\u001b[0m\u001b[1;33m\u001b[0m\u001b[1;33m\u001b[0m\u001b[1;33m\u001b[0m\u001b[0m\n\u001b[1;32m----> 2\u001b[1;33m \u001b[0mhistory\u001b[0m \u001b[1;33m=\u001b[0m \u001b[0mmodel\u001b[0m\u001b[1;33m.\u001b[0m\u001b[0mfit\u001b[0m\u001b[1;33m(\u001b[0m\u001b[0mtrain_set\u001b[0m\u001b[1;33m,\u001b[0m\u001b[0mepochs\u001b[0m\u001b[1;33m=\u001b[0m\u001b[1;36m500\u001b[0m\u001b[1;33m)\u001b[0m\u001b[1;33m\u001b[0m\u001b[1;33m\u001b[0m\u001b[0m\n\u001b[0m",
      "\u001b[1;32mC:\\ProgramData\\Anaconda3\\lib\\site-packages\\keras\\utils\\traceback_utils.py\u001b[0m in \u001b[0;36merror_handler\u001b[1;34m(*args, **kwargs)\u001b[0m\n\u001b[0;32m     62\u001b[0m     \u001b[0mfiltered_tb\u001b[0m \u001b[1;33m=\u001b[0m \u001b[1;32mNone\u001b[0m\u001b[1;33m\u001b[0m\u001b[1;33m\u001b[0m\u001b[0m\n\u001b[0;32m     63\u001b[0m     \u001b[1;32mtry\u001b[0m\u001b[1;33m:\u001b[0m\u001b[1;33m\u001b[0m\u001b[1;33m\u001b[0m\u001b[0m\n\u001b[1;32m---> 64\u001b[1;33m       \u001b[1;32mreturn\u001b[0m \u001b[0mfn\u001b[0m\u001b[1;33m(\u001b[0m\u001b[1;33m*\u001b[0m\u001b[0margs\u001b[0m\u001b[1;33m,\u001b[0m \u001b[1;33m**\u001b[0m\u001b[0mkwargs\u001b[0m\u001b[1;33m)\u001b[0m\u001b[1;33m\u001b[0m\u001b[1;33m\u001b[0m\u001b[0m\n\u001b[0m\u001b[0;32m     65\u001b[0m     \u001b[1;32mexcept\u001b[0m \u001b[0mException\u001b[0m \u001b[1;32mas\u001b[0m \u001b[0me\u001b[0m\u001b[1;33m:\u001b[0m  \u001b[1;31m# pylint: disable=broad-except\u001b[0m\u001b[1;33m\u001b[0m\u001b[1;33m\u001b[0m\u001b[0m\n\u001b[0;32m     66\u001b[0m       \u001b[0mfiltered_tb\u001b[0m \u001b[1;33m=\u001b[0m \u001b[0m_process_traceback_frames\u001b[0m\u001b[1;33m(\u001b[0m\u001b[0me\u001b[0m\u001b[1;33m.\u001b[0m\u001b[0m__traceback__\u001b[0m\u001b[1;33m)\u001b[0m\u001b[1;33m\u001b[0m\u001b[1;33m\u001b[0m\u001b[0m\n",
      "\u001b[1;32mC:\\ProgramData\\Anaconda3\\lib\\site-packages\\keras\\engine\\training.py\u001b[0m in \u001b[0;36mfit\u001b[1;34m(self, x, y, batch_size, epochs, verbose, callbacks, validation_split, validation_data, shuffle, class_weight, sample_weight, initial_epoch, steps_per_epoch, validation_steps, validation_batch_size, validation_freq, max_queue_size, workers, use_multiprocessing)\u001b[0m\n\u001b[0;32m   1407\u001b[0m                 _r=1):\n\u001b[0;32m   1408\u001b[0m               \u001b[0mcallbacks\u001b[0m\u001b[1;33m.\u001b[0m\u001b[0mon_train_batch_begin\u001b[0m\u001b[1;33m(\u001b[0m\u001b[0mstep\u001b[0m\u001b[1;33m)\u001b[0m\u001b[1;33m\u001b[0m\u001b[1;33m\u001b[0m\u001b[0m\n\u001b[1;32m-> 1409\u001b[1;33m               \u001b[0mtmp_logs\u001b[0m \u001b[1;33m=\u001b[0m \u001b[0mself\u001b[0m\u001b[1;33m.\u001b[0m\u001b[0mtrain_function\u001b[0m\u001b[1;33m(\u001b[0m\u001b[0miterator\u001b[0m\u001b[1;33m)\u001b[0m\u001b[1;33m\u001b[0m\u001b[1;33m\u001b[0m\u001b[0m\n\u001b[0m\u001b[0;32m   1410\u001b[0m               \u001b[1;32mif\u001b[0m \u001b[0mdata_handler\u001b[0m\u001b[1;33m.\u001b[0m\u001b[0mshould_sync\u001b[0m\u001b[1;33m:\u001b[0m\u001b[1;33m\u001b[0m\u001b[1;33m\u001b[0m\u001b[0m\n\u001b[0;32m   1411\u001b[0m                 \u001b[0mcontext\u001b[0m\u001b[1;33m.\u001b[0m\u001b[0masync_wait\u001b[0m\u001b[1;33m(\u001b[0m\u001b[1;33m)\u001b[0m\u001b[1;33m\u001b[0m\u001b[1;33m\u001b[0m\u001b[0m\n",
      "\u001b[1;32mC:\\ProgramData\\Anaconda3\\lib\\site-packages\\tensorflow\\python\\util\\traceback_utils.py\u001b[0m in \u001b[0;36merror_handler\u001b[1;34m(*args, **kwargs)\u001b[0m\n\u001b[0;32m    148\u001b[0m     \u001b[0mfiltered_tb\u001b[0m \u001b[1;33m=\u001b[0m \u001b[1;32mNone\u001b[0m\u001b[1;33m\u001b[0m\u001b[1;33m\u001b[0m\u001b[0m\n\u001b[0;32m    149\u001b[0m     \u001b[1;32mtry\u001b[0m\u001b[1;33m:\u001b[0m\u001b[1;33m\u001b[0m\u001b[1;33m\u001b[0m\u001b[0m\n\u001b[1;32m--> 150\u001b[1;33m       \u001b[1;32mreturn\u001b[0m \u001b[0mfn\u001b[0m\u001b[1;33m(\u001b[0m\u001b[1;33m*\u001b[0m\u001b[0margs\u001b[0m\u001b[1;33m,\u001b[0m \u001b[1;33m**\u001b[0m\u001b[0mkwargs\u001b[0m\u001b[1;33m)\u001b[0m\u001b[1;33m\u001b[0m\u001b[1;33m\u001b[0m\u001b[0m\n\u001b[0m\u001b[0;32m    151\u001b[0m     \u001b[1;32mexcept\u001b[0m \u001b[0mException\u001b[0m \u001b[1;32mas\u001b[0m \u001b[0me\u001b[0m\u001b[1;33m:\u001b[0m\u001b[1;33m\u001b[0m\u001b[1;33m\u001b[0m\u001b[0m\n\u001b[0;32m    152\u001b[0m       \u001b[0mfiltered_tb\u001b[0m \u001b[1;33m=\u001b[0m \u001b[0m_process_traceback_frames\u001b[0m\u001b[1;33m(\u001b[0m\u001b[0me\u001b[0m\u001b[1;33m.\u001b[0m\u001b[0m__traceback__\u001b[0m\u001b[1;33m)\u001b[0m\u001b[1;33m\u001b[0m\u001b[1;33m\u001b[0m\u001b[0m\n",
      "\u001b[1;32mC:\\ProgramData\\Anaconda3\\lib\\site-packages\\tensorflow\\python\\eager\\def_function.py\u001b[0m in \u001b[0;36m__call__\u001b[1;34m(self, *args, **kwds)\u001b[0m\n\u001b[0;32m    913\u001b[0m \u001b[1;33m\u001b[0m\u001b[0m\n\u001b[0;32m    914\u001b[0m       \u001b[1;32mwith\u001b[0m \u001b[0mOptionalXlaContext\u001b[0m\u001b[1;33m(\u001b[0m\u001b[0mself\u001b[0m\u001b[1;33m.\u001b[0m\u001b[0m_jit_compile\u001b[0m\u001b[1;33m)\u001b[0m\u001b[1;33m:\u001b[0m\u001b[1;33m\u001b[0m\u001b[1;33m\u001b[0m\u001b[0m\n\u001b[1;32m--> 915\u001b[1;33m         \u001b[0mresult\u001b[0m \u001b[1;33m=\u001b[0m \u001b[0mself\u001b[0m\u001b[1;33m.\u001b[0m\u001b[0m_call\u001b[0m\u001b[1;33m(\u001b[0m\u001b[1;33m*\u001b[0m\u001b[0margs\u001b[0m\u001b[1;33m,\u001b[0m \u001b[1;33m**\u001b[0m\u001b[0mkwds\u001b[0m\u001b[1;33m)\u001b[0m\u001b[1;33m\u001b[0m\u001b[1;33m\u001b[0m\u001b[0m\n\u001b[0m\u001b[0;32m    916\u001b[0m \u001b[1;33m\u001b[0m\u001b[0m\n\u001b[0;32m    917\u001b[0m       \u001b[0mnew_tracing_count\u001b[0m \u001b[1;33m=\u001b[0m \u001b[0mself\u001b[0m\u001b[1;33m.\u001b[0m\u001b[0mexperimental_get_tracing_count\u001b[0m\u001b[1;33m(\u001b[0m\u001b[1;33m)\u001b[0m\u001b[1;33m\u001b[0m\u001b[1;33m\u001b[0m\u001b[0m\n",
      "\u001b[1;32mC:\\ProgramData\\Anaconda3\\lib\\site-packages\\tensorflow\\python\\eager\\def_function.py\u001b[0m in \u001b[0;36m_call\u001b[1;34m(self, *args, **kwds)\u001b[0m\n\u001b[0;32m    945\u001b[0m       \u001b[1;31m# In this case we have created variables on the first call, so we run the\u001b[0m\u001b[1;33m\u001b[0m\u001b[1;33m\u001b[0m\u001b[1;33m\u001b[0m\u001b[0m\n\u001b[0;32m    946\u001b[0m       \u001b[1;31m# defunned version which is guaranteed to never create variables.\u001b[0m\u001b[1;33m\u001b[0m\u001b[1;33m\u001b[0m\u001b[1;33m\u001b[0m\u001b[0m\n\u001b[1;32m--> 947\u001b[1;33m       \u001b[1;32mreturn\u001b[0m \u001b[0mself\u001b[0m\u001b[1;33m.\u001b[0m\u001b[0m_stateless_fn\u001b[0m\u001b[1;33m(\u001b[0m\u001b[1;33m*\u001b[0m\u001b[0margs\u001b[0m\u001b[1;33m,\u001b[0m \u001b[1;33m**\u001b[0m\u001b[0mkwds\u001b[0m\u001b[1;33m)\u001b[0m  \u001b[1;31m# pylint: disable=not-callable\u001b[0m\u001b[1;33m\u001b[0m\u001b[1;33m\u001b[0m\u001b[0m\n\u001b[0m\u001b[0;32m    948\u001b[0m     \u001b[1;32melif\u001b[0m \u001b[0mself\u001b[0m\u001b[1;33m.\u001b[0m\u001b[0m_stateful_fn\u001b[0m \u001b[1;32mis\u001b[0m \u001b[1;32mnot\u001b[0m \u001b[1;32mNone\u001b[0m\u001b[1;33m:\u001b[0m\u001b[1;33m\u001b[0m\u001b[1;33m\u001b[0m\u001b[0m\n\u001b[0;32m    949\u001b[0m       \u001b[1;31m# Release the lock early so that multiple threads can perform the call\u001b[0m\u001b[1;33m\u001b[0m\u001b[1;33m\u001b[0m\u001b[1;33m\u001b[0m\u001b[0m\n",
      "\u001b[1;32mC:\\ProgramData\\Anaconda3\\lib\\site-packages\\tensorflow\\python\\eager\\function.py\u001b[0m in \u001b[0;36m__call__\u001b[1;34m(self, *args, **kwargs)\u001b[0m\n\u001b[0;32m   2451\u001b[0m       (graph_function,\n\u001b[0;32m   2452\u001b[0m        filtered_flat_args) = self._maybe_define_function(args, kwargs)\n\u001b[1;32m-> 2453\u001b[1;33m     return graph_function._call_flat(\n\u001b[0m\u001b[0;32m   2454\u001b[0m         filtered_flat_args, captured_inputs=graph_function.captured_inputs)  # pylint: disable=protected-access\n\u001b[0;32m   2455\u001b[0m \u001b[1;33m\u001b[0m\u001b[0m\n",
      "\u001b[1;32mC:\\ProgramData\\Anaconda3\\lib\\site-packages\\tensorflow\\python\\eager\\function.py\u001b[0m in \u001b[0;36m_call_flat\u001b[1;34m(self, args, captured_inputs, cancellation_manager)\u001b[0m\n\u001b[0;32m   1858\u001b[0m         and executing_eagerly):\n\u001b[0;32m   1859\u001b[0m       \u001b[1;31m# No tape is watching; skip to running the function.\u001b[0m\u001b[1;33m\u001b[0m\u001b[1;33m\u001b[0m\u001b[1;33m\u001b[0m\u001b[0m\n\u001b[1;32m-> 1860\u001b[1;33m       return self._build_call_outputs(self._inference_function.call(\n\u001b[0m\u001b[0;32m   1861\u001b[0m           ctx, args, cancellation_manager=cancellation_manager))\n\u001b[0;32m   1862\u001b[0m     forward_backward = self._select_forward_and_backward_functions(\n",
      "\u001b[1;32mC:\\ProgramData\\Anaconda3\\lib\\site-packages\\tensorflow\\python\\eager\\function.py\u001b[0m in \u001b[0;36mcall\u001b[1;34m(self, ctx, args, cancellation_manager)\u001b[0m\n\u001b[0;32m    495\u001b[0m       \u001b[1;32mwith\u001b[0m \u001b[0m_InterpolateFunctionError\u001b[0m\u001b[1;33m(\u001b[0m\u001b[0mself\u001b[0m\u001b[1;33m)\u001b[0m\u001b[1;33m:\u001b[0m\u001b[1;33m\u001b[0m\u001b[1;33m\u001b[0m\u001b[0m\n\u001b[0;32m    496\u001b[0m         \u001b[1;32mif\u001b[0m \u001b[0mcancellation_manager\u001b[0m \u001b[1;32mis\u001b[0m \u001b[1;32mNone\u001b[0m\u001b[1;33m:\u001b[0m\u001b[1;33m\u001b[0m\u001b[1;33m\u001b[0m\u001b[0m\n\u001b[1;32m--> 497\u001b[1;33m           outputs = execute.execute(\n\u001b[0m\u001b[0;32m    498\u001b[0m               \u001b[0mstr\u001b[0m\u001b[1;33m(\u001b[0m\u001b[0mself\u001b[0m\u001b[1;33m.\u001b[0m\u001b[0msignature\u001b[0m\u001b[1;33m.\u001b[0m\u001b[0mname\u001b[0m\u001b[1;33m)\u001b[0m\u001b[1;33m,\u001b[0m\u001b[1;33m\u001b[0m\u001b[1;33m\u001b[0m\u001b[0m\n\u001b[0;32m    499\u001b[0m               \u001b[0mnum_outputs\u001b[0m\u001b[1;33m=\u001b[0m\u001b[0mself\u001b[0m\u001b[1;33m.\u001b[0m\u001b[0m_num_outputs\u001b[0m\u001b[1;33m,\u001b[0m\u001b[1;33m\u001b[0m\u001b[1;33m\u001b[0m\u001b[0m\n",
      "\u001b[1;32mC:\\ProgramData\\Anaconda3\\lib\\site-packages\\tensorflow\\python\\eager\\execute.py\u001b[0m in \u001b[0;36mquick_execute\u001b[1;34m(op_name, num_outputs, inputs, attrs, ctx, name)\u001b[0m\n\u001b[0;32m     52\u001b[0m   \u001b[1;32mtry\u001b[0m\u001b[1;33m:\u001b[0m\u001b[1;33m\u001b[0m\u001b[1;33m\u001b[0m\u001b[0m\n\u001b[0;32m     53\u001b[0m     \u001b[0mctx\u001b[0m\u001b[1;33m.\u001b[0m\u001b[0mensure_initialized\u001b[0m\u001b[1;33m(\u001b[0m\u001b[1;33m)\u001b[0m\u001b[1;33m\u001b[0m\u001b[1;33m\u001b[0m\u001b[0m\n\u001b[1;32m---> 54\u001b[1;33m     tensors = pywrap_tfe.TFE_Py_Execute(ctx._handle, device_name, op_name,\n\u001b[0m\u001b[0;32m     55\u001b[0m                                         inputs, attrs, num_outputs)\n\u001b[0;32m     56\u001b[0m   \u001b[1;32mexcept\u001b[0m \u001b[0mcore\u001b[0m\u001b[1;33m.\u001b[0m\u001b[0m_NotOkStatusException\u001b[0m \u001b[1;32mas\u001b[0m \u001b[0me\u001b[0m\u001b[1;33m:\u001b[0m\u001b[1;33m\u001b[0m\u001b[1;33m\u001b[0m\u001b[0m\n",
      "\u001b[1;31mKeyboardInterrupt\u001b[0m: "
     ]
    }
   ],
   "source": [
    "# Train the model\n",
    "history = model.fit(train_set,epochs=500)"
   ]
  },
  {
   "cell_type": "markdown",
   "metadata": {
    "id": "mEGAzXrmBCVd"
   },
   "source": [
    "Training can be a bit unstable especially as the weights start to converge so you may want to visualize it to see if it is still trending down. The earlier epochs might dominate the graph so it's also good to zoom in on the later parts of training to properly observe the parameters. The code below visualizes the `mae` and `loss` for all epochs, and also zooms in at the last 80%."
   ]
  },
  {
   "cell_type": "code",
   "execution_count": null,
   "metadata": {
    "id": "ok8LjNbbkig4"
   },
   "outputs": [],
   "source": [
    "# Get mae and loss from history log\n",
    "mae=history.history['mae']\n",
    "loss=history.history['loss']\n",
    "\n",
    "# Get number of epochs\n",
    "epochs=range(len(loss)) \n",
    "\n",
    "# Plot mae and loss\n",
    "plot_series(\n",
    "    x=epochs, \n",
    "    y=(mae, loss), \n",
    "    title='MAE and Loss', \n",
    "    xlabel='Epochs',\n",
    "    legend=['MAE', 'Loss']\n",
    "    )\n",
    "\n",
    "# Only plot the last 80% of the epochs\n",
    "zoom_split = int(epochs[-1] * 0.2)\n",
    "epochs_zoom = epochs[zoom_split:]\n",
    "mae_zoom = mae[zoom_split:]\n",
    "loss_zoom = loss[zoom_split:]\n",
    "\n",
    "# Plot zoomed mae and loss\n",
    "plot_series(\n",
    "    x=epochs_zoom, \n",
    "    y=(mae_zoom, loss_zoom), \n",
    "    title='MAE and Loss', \n",
    "    xlabel='Epochs',\n",
    "    legend=['MAE', 'Loss']\n",
    "    )"
   ]
  },
  {
   "cell_type": "markdown",
   "metadata": {
    "id": "l4BToQgdS9Lo"
   },
   "source": [
    "## Model Prediction\n",
    "\n",
    "Once training is done, you can generate the model predictions and plot them against the validation set.\n"
   ]
  },
  {
   "cell_type": "code",
   "execution_count": null,
   "metadata": {
    "id": "HUWdHyyiS3o_"
   },
   "outputs": [],
   "source": [
    "def model_forecast(model, series, window_size, batch_size):\n",
    "    \"\"\"Uses an input model to generate predictions on data windows\n",
    "\n",
    "    Args:\n",
    "      model (TF Keras Model) - model that accepts data windows\n",
    "      series (array of float) - contains the values of the time series\n",
    "      window_size (int) - the number of time steps to include in the window\n",
    "      batch_size (int) - the batch size\n",
    "\n",
    "    Returns:\n",
    "      forecast (numpy array) - array containing predictions\n",
    "    \"\"\"\n",
    "\n",
    "    # Generate a TF Dataset from the series values\n",
    "    dataset = tf.data.Dataset.from_tensor_slices(series)\n",
    "\n",
    "    # Window the data but only take those with the specified size\n",
    "    dataset = dataset.window(window_size, shift=1, drop_remainder=True)\n",
    "\n",
    "    # Flatten the windows by putting its elements in a single batch\n",
    "    dataset = dataset.flat_map(lambda w: w.batch(window_size))\n",
    "    \n",
    "    # Create batches of windows\n",
    "    dataset = dataset.batch(batch_size).prefetch(1)\n",
    "    \n",
    "    # Get predictions on the entire dataset\n",
    "    forecast = model.predict(dataset)\n",
    "    \n",
    "    return forecast"
   ]
  },
  {
   "cell_type": "code",
   "execution_count": null,
   "metadata": {
    "id": "Hsmw8TOUS7K_"
   },
   "outputs": [],
   "source": [
    "# Reduce the original series\n",
    "forecast_series = series[split_time-window_size:-1]\n",
    "\n",
    "# Use helper function to generate predictions\n",
    "forecast = model_forecast(model, forecast_series, window_size, batch_size)\n",
    "\n",
    "# Drop single dimensional axes\n",
    "results = forecast.squeeze()\n",
    "\n",
    "# Plot the results\n",
    "plot_series(time_valid, (x_valid, results))"
   ]
  },
  {
   "cell_type": "markdown",
   "metadata": {
    "id": "mR1WxVICDSIE"
   },
   "source": [
    "You can then compute the metrics as usual."
   ]
  },
  {
   "cell_type": "code",
   "execution_count": null,
   "metadata": {
    "id": "ULKO3JINdqkp"
   },
   "outputs": [],
   "source": [
    "## Compute the MAE and MSE\n",
    "print(tf.keras.metrics.mean_squared_error(x_valid, results).numpy())\n",
    "print(tf.keras.metrics.mean_absolute_error(x_valid, results).numpy())"
   ]
  },
  {
   "cell_type": "markdown",
   "metadata": {
    "id": "QAS7XGJe58hY"
   },
   "source": [
    "## Wrap Up\n",
    "\n",
    "In this lab, you were able to build and train a CNN-RNN model for forecasting. This concludes the series of notebooks on training with synthetic data. In the next labs, you will be looking at a real world time series dataset, particularly sunspot cycles. See you there!"
   ]
  },
  {
   "cell_type": "markdown",
   "metadata": {
    "id": "74P0oB1MrO5K"
   },
   "source": [
    "## Optional - Adding a Callback for Early Stopping\n",
    "\n",
    "In this optional section, you will add a callback to stop training when a metric is met. You already did this in the first course of this specialization and now would be a good time to review."
   ]
  },
  {
   "cell_type": "markdown",
   "metadata": {
    "id": "7E_XS6Kw7lCS"
   },
   "source": [
    "First, you need to prepare a validation set that the model can use and monitor. As shown in the previous lab, you can use the `windowed_dataset()` function to prepare this."
   ]
  },
  {
   "cell_type": "code",
   "execution_count": null,
   "metadata": {
    "id": "aepWmBdueTOB"
   },
   "outputs": [],
   "source": [
    "# Generate data windows from the validation set\n",
    "val_set = windowed_dataset(x_valid, window_size, batch_size, shuffle_buffer_size)"
   ]
  },
  {
   "cell_type": "markdown",
   "metadata": {
    "id": "dEbWDGzU72-h"
   },
   "source": [
    "You can reset the weights of the model or just continue from where you left off."
   ]
  },
  {
   "cell_type": "code",
   "execution_count": null,
   "metadata": {
    "id": "TkeXyLYRoJxA"
   },
   "outputs": [],
   "source": [
    "# Uncomment if you want to reset the weights\n",
    "# model.set_weights(init_weights)"
   ]
  },
  {
   "cell_type": "markdown",
   "metadata": {
    "id": "HOTxGXlw8Qh-"
   },
   "source": [
    "Next, you will define a callback function that is run every end of an epoch. Inside, you will define the condition to stop training. For this lab, you will set it to stop when the `val_mae` is less than `5.2`."
   ]
  },
  {
   "cell_type": "code",
   "execution_count": null,
   "metadata": {
    "id": "fpajFWODpDIy"
   },
   "outputs": [],
   "source": [
    "class myCallback(tf.keras.callbacks.Callback):\n",
    "  def on_epoch_end(self, epoch, logs={}):\n",
    "    '''\n",
    "    Halts the training when a certain metric is met\n",
    "\n",
    "    Args:\n",
    "      epoch (integer) - index of epoch (required but unused in the function definition below)\n",
    "      logs (dict) - metric results from the training epoch\n",
    "    '''\n",
    "\n",
    "    # Check the validation set MAE\n",
    "    if(logs.get('val_mae') < 5.2):\n",
    "\n",
    "      # Stop if threshold is met\n",
    "      print(\"\\nRequired val MAE is met so cancelling training!\")\n",
    "      self.model.stop_training = True\n",
    "\n",
    "# Instantiate the class\n",
    "callbacks = myCallback()"
   ]
  },
  {
   "cell_type": "markdown",
   "metadata": {
    "id": "abJp8xCR9CUt"
   },
   "source": [
    "Remember to set an appropriate learning rate here. If you're starting from random weights, you may want to use the same rate you used earlier. If you did not reset the weights however, you can use a lower learning rate so the model can learn better. If all goes well, the training will stop before the set 500 epochs are completed."
   ]
  },
  {
   "cell_type": "code",
   "execution_count": null,
   "metadata": {
    "id": "xY9o0I0ieYV-"
   },
   "outputs": [],
   "source": [
    "# Set the learning rate\n",
    "learning_rate = 4e-8\n",
    "\n",
    "# Set the optimizer\n",
    "optimizer = tf.keras.optimizers.SGD(learning_rate=learning_rate, momentum=0.9)\n",
    "\n",
    "# Set the training parameters\n",
    "model.compile(loss=tf.keras.losses.Huber(),\n",
    "              optimizer=optimizer,\n",
    "              metrics=[\"mae\"])\n",
    "\n",
    "# Train the model\n",
    "history = model.fit(train_set, epochs=500, validation_data=val_set, callbacks=[callbacks])"
   ]
  },
  {
   "cell_type": "markdown",
   "metadata": {
    "id": "hXnLf9409n1E"
   },
   "source": [
    "In practice, you normally have a separate test set to evaluate against unseen data. For this exercise however, the dataset is already very small so let's just use the same validation set just to verify that the results are comparable to the one you got earlier."
   ]
  },
  {
   "cell_type": "code",
   "execution_count": null,
   "metadata": {
    "id": "gUv4QkyaoDxk"
   },
   "outputs": [],
   "source": [
    "# Reduce the original series\n",
    "forecast_series = series[split_time-window_size:-1]\n",
    "\n",
    "# Use helper function to generate predictions\n",
    "forecast = model_forecast(model, forecast_series, window_size, batch_size)\n",
    "\n",
    "# Drop single dimensional axis\n",
    "results = forecast.squeeze()\n",
    "\n",
    "# Plot the results\n",
    "plot_series(time_valid, (x_valid, results))"
   ]
  },
  {
   "cell_type": "markdown",
   "metadata": {
    "id": "IjlbjWJG-b-1"
   },
   "source": [
    "The computed metrics here will be slightly different from the one shown in the training output because it has more points to evaluate. Remember that `x_valid` has 461 points that corresponds to `t=1000` to `t=1460`. `val_set` (which is a windowed dataset from `x_valid`), on the other hand, only has 441 points because it cannot generate predictions for `t=1000` to `t=1019` (i.e. windowing will start there)."
   ]
  },
  {
   "cell_type": "code",
   "execution_count": null,
   "metadata": {
    "id": "Z3tKgbO2oEgW"
   },
   "outputs": [],
   "source": [
    "## Compute the MAE and MSE\n",
    "print(tf.keras.metrics.mean_squared_error(x_valid, results).numpy())\n",
    "print(tf.keras.metrics.mean_absolute_error(x_valid, results).numpy())"
   ]
  }
 ],
 "metadata": {
  "accelerator": "GPU",
  "colab": {
   "collapsed_sections": [],
   "name": "C4_W4_Lab_1_LSTM.ipynb",
   "private_outputs": true,
   "provenance": []
  },
  "kernelspec": {
   "display_name": "Python 3",
   "language": "python",
   "name": "python3"
  },
  "language_info": {
   "codemirror_mode": {
    "name": "ipython",
    "version": 3
   },
   "file_extension": ".py",
   "mimetype": "text/x-python",
   "name": "python",
   "nbconvert_exporter": "python",
   "pygments_lexer": "ipython3",
   "version": "3.8.8"
  }
 },
 "nbformat": 4,
 "nbformat_minor": 1
}
